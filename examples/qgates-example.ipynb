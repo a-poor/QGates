{
 "cells": [
  {
   "cell_type": "markdown",
   "metadata": {},
   "source": [
    "# Working with QGates\n",
    "\n",
    "_by Austin Poor_\n",
    "\n",
    "`qgates` has three submodules: \n",
    "* `qgates.states` with some pre-defined common state vectors,\n",
    "* `qgates.gates` with some pre-defined common gates (logical and quantum), and \n",
    "* `qgates.qfn` with helper functions for creating and combining states and gates."
   ]
  },
  {
   "cell_type": "code",
   "execution_count": 1,
   "metadata": {},
   "outputs": [],
   "source": [
    "import qgates"
   ]
  },
  {
   "cell_type": "markdown",
   "metadata": {},
   "source": [
    "## States\n",
    "\n",
    "`qgates.states` has 10 premade state vectors.\n",
    "\n",
    "Two single-bit qubits:\n",
    "* `QB0`: $|0\\rangle$\n",
    "* `QB1`: $|1\\rangle$\n",
    "\n",
    "Four two-bit qubits (which are combinations of the above two):\n",
    "* `QB00`: $|00\\rangle$\n",
    "* `QB01`: $|01\\rangle$\n",
    "* `QB10`: $|10\\rangle$\n",
    "* `QB11`: $|11\\rangle$\n",
    "\n",
    "The four [Bell states](https://en.wikipedia.org/wiki/Bell_state):\n",
    "* `BELL00`: $|\\Phi^+\\rangle$\n",
    "* `BELL01`: $|\\Phi^-\\rangle$\n",
    "* `BELL10`: $|\\Psi^+\\rangle$\n",
    "* `BELL11`: $|\\Psi^-\\rangle$\n",
    "\n",
    "For example, here are the single qubits..."
   ]
  },
  {
   "cell_type": "code",
   "execution_count": 2,
   "metadata": {},
   "outputs": [
    {
     "name": "stdout",
     "output_type": "stream",
     "text": [
      "|0>  [1 0]\n",
      "|1>  [0 1]\n"
     ]
    }
   ],
   "source": [
    "print(\"|0> \", qgates.states.QB0)\n",
    "print(\"|1> \", qgates.states.QB1)"
   ]
  },
  {
   "cell_type": "markdown",
   "metadata": {},
   "source": [
    "And two of the the 2-qubit pairs..."
   ]
  },
  {
   "cell_type": "code",
   "execution_count": 3,
   "metadata": {},
   "outputs": [
    {
     "name": "stdout",
     "output_type": "stream",
     "text": [
      "|00>  [1 0 0 0]\n",
      "|10>  [0 0 1 0]\n"
     ]
    }
   ],
   "source": [
    "print(\"|00> \", qgates.states.QB00)\n",
    "print(\"|10> \", qgates.states.QB10)"
   ]
  },
  {
   "cell_type": "markdown",
   "metadata": {},
   "source": [
    "## Gates\n",
    "\n",
    "There are 8 logical/normal-bit gates:\n",
    "* `IDEN`\n",
    "* `NOT`\n",
    "* `AND`\n",
    "* `OR`\n",
    "* `XOR`\n",
    "* `NAND`\n",
    "* `NOR`\n",
    "* `COPY`\n",
    "\n",
    "...and 4 quantum gates:\n",
    "* `HAD`, the [Hadamard gate](https://en.wikipedia.org/wiki/Quantum_logic_gate#Hadamard_(H)_gate)\n",
    "* `CNOT`, the [controlled not gate](https://en.wikipedia.org/wiki/Controlled_NOT_gate)\n",
    "* `TOFFOLI`, the [toffoli gate](https://en.wikipedia.org/wiki/Toffoli_gate) (_aka_ the CCNOT gate)\n",
    "* `SWAP`, the [swap gate](https://en.wikipedia.org/wiki/Quantum_logic_gate#Swap_(SWAP)_gate)"
   ]
  },
  {
   "cell_type": "markdown",
   "metadata": {},
   "source": [
    "For example, here are the _identity_ gate and the _not_ gate matrices..."
   ]
  },
  {
   "cell_type": "code",
   "execution_count": 4,
   "metadata": {},
   "outputs": [
    {
     "name": "stdout",
     "output_type": "stream",
     "text": [
      "[[1 0]\n",
      " [0 1]]\n"
     ]
    }
   ],
   "source": [
    "print(qgates.gates.IDEN)"
   ]
  },
  {
   "cell_type": "code",
   "execution_count": 5,
   "metadata": {},
   "outputs": [
    {
     "name": "stdout",
     "output_type": "stream",
     "text": [
      "[[0 1]\n",
      " [1 0]]\n"
     ]
    }
   ],
   "source": [
    "print(qgates.gates.NOT)"
   ]
  },
  {
   "cell_type": "markdown",
   "metadata": {},
   "source": [
    "And here are the _or_ and _copy_ gates..."
   ]
  },
  {
   "cell_type": "code",
   "execution_count": 6,
   "metadata": {},
   "outputs": [
    {
     "name": "stdout",
     "output_type": "stream",
     "text": [
      "[[1 0 0 0]\n",
      " [0 1 1 1]]\n"
     ]
    }
   ],
   "source": [
    "print(qgates.gates.OR)"
   ]
  },
  {
   "cell_type": "code",
   "execution_count": 7,
   "metadata": {},
   "outputs": [
    {
     "name": "stdout",
     "output_type": "stream",
     "text": [
      "[[1 0]\n",
      " [0 0]\n",
      " [0 0]\n",
      " [0 1]]\n"
     ]
    }
   ],
   "source": [
    "print(qgates.gates.COPY)"
   ]
  },
  {
   "cell_type": "markdown",
   "metadata": {},
   "source": [
    "And here are some of the quantum gates..."
   ]
  },
  {
   "cell_type": "code",
   "execution_count": 8,
   "metadata": {},
   "outputs": [
    {
     "name": "stdout",
     "output_type": "stream",
     "text": [
      "[[ 0.70710678  0.70710678]\n",
      " [ 0.70710678 -0.70710678]]\n"
     ]
    }
   ],
   "source": [
    "print(qgates.gates.HAD)"
   ]
  },
  {
   "cell_type": "code",
   "execution_count": 9,
   "metadata": {},
   "outputs": [
    {
     "name": "stdout",
     "output_type": "stream",
     "text": [
      "[[1 0 0 0]\n",
      " [0 1 0 0]\n",
      " [0 0 0 1]\n",
      " [0 0 1 0]]\n"
     ]
    }
   ],
   "source": [
    "print(qgates.gates.CNOT)"
   ]
  },
  {
   "cell_type": "code",
   "execution_count": 10,
   "metadata": {},
   "outputs": [
    {
     "name": "stdout",
     "output_type": "stream",
     "text": [
      "[[1 0 0 0 0 0 0 0]\n",
      " [0 1 0 0 0 0 0 0]\n",
      " [0 0 1 0 0 0 0 0]\n",
      " [0 0 0 1 0 0 0 0]\n",
      " [0 0 0 0 1 0 0 0]\n",
      " [0 0 0 0 0 1 0 0]\n",
      " [0 0 0 0 0 0 0 1]\n",
      " [0 0 0 0 0 0 1 0]]\n"
     ]
    }
   ],
   "source": [
    "print(qgates.gates.TOFFOLI)"
   ]
  },
  {
   "cell_type": "markdown",
   "metadata": {},
   "source": [
    "## Helper Functions\n",
    "\n",
    "There are four functions in the `qgates.qfn` submodule:\n",
    "* `state` to create state vectors\n",
    "* `tens` to calculate the [tensor product](https://en.wikipedia.org/wiki/Tensor_product) of two or more states or gates\n",
    "* `matmul` to perform [matrix multiplication](https://en.wikipedia.org/wiki/Matrix_multiplication) between two or more gates or states\n",
    "* `conjugate` calculates the [complex conjugate](https://en.wikipedia.org/wiki/Complex_conjugate) of a number, a vector of numbers, or a matrix of numbers\n",
    "\n",
    "The tensor product is used to create state vectors with two or more qubits or to create quantum gates that operate in parallel.\n",
    "\n",
    "Matrix multiplication is used to combine quantum gates sequentially, or to pass a state vector through a quantum gate."
   ]
  },
  {
   "cell_type": "markdown",
   "metadata": {},
   "source": [
    "### Creating a State Vector\n",
    "\n",
    "We can create the state vectors for the numbers `0` (or $|0\\rangle$) and `2` (or $|10\\rangle$) based on their binary representations"
   ]
  },
  {
   "cell_type": "code",
   "execution_count": 11,
   "metadata": {},
   "outputs": [
    {
     "name": "stdout",
     "output_type": "stream",
     "text": [
      "0b0 [1 0]\n"
     ]
    }
   ],
   "source": [
    "print(bin(0), qgates.qfn.state(0))"
   ]
  },
  {
   "cell_type": "code",
   "execution_count": 12,
   "metadata": {},
   "outputs": [
    {
     "name": "stdout",
     "output_type": "stream",
     "text": [
      "0b10 [0 0 1 0]\n"
     ]
    }
   ],
   "source": [
    "print(bin(2), qgates.qfn.state(2))"
   ]
  },
  {
   "cell_type": "markdown",
   "metadata": {},
   "source": [
    "### Calculating the Tensor Product\n",
    "\n",
    "The `tens` function is mostly a wrapper around numpy's `kron` function except that it can take more than two numpy `ndarray`s as arguments."
   ]
  },
  {
   "cell_type": "code",
   "execution_count": 13,
   "metadata": {},
   "outputs": [
    {
     "data": {
      "text/plain": [
       "array([0, 1, 0, 0])"
      ]
     },
     "execution_count": 13,
     "metadata": {},
     "output_type": "execute_result"
    }
   ],
   "source": [
    "qgates.qfn.tens(\n",
    "    qgates.states.QB0,\n",
    "    qgates.states.QB1\n",
    ")"
   ]
  },
  {
   "cell_type": "code",
   "execution_count": 14,
   "metadata": {},
   "outputs": [
    {
     "data": {
      "text/plain": [
       "array([[0, 1, 0, 0],\n",
       "       [1, 0, 0, 0],\n",
       "       [0, 0, 0, 1],\n",
       "       [0, 0, 1, 0]])"
      ]
     },
     "execution_count": 14,
     "metadata": {},
     "output_type": "execute_result"
    }
   ],
   "source": [
    "qgates.qfn.tens(\n",
    "    qgates.gates.IDEN,\n",
    "    qgates.gates.NOT\n",
    ")"
   ]
  },
  {
   "cell_type": "markdown",
   "metadata": {},
   "source": [
    "### Performing Matrix Multiplication\n",
    "\n",
    "Similarly, the `matmul` function is a wrapper around numpy's `matmul` function."
   ]
  },
  {
   "cell_type": "code",
   "execution_count": 15,
   "metadata": {},
   "outputs": [
    {
     "data": {
      "text/plain": [
       "array([0, 1])"
      ]
     },
     "execution_count": 15,
     "metadata": {},
     "output_type": "execute_result"
    }
   ],
   "source": [
    "qgates.qfn.matmul(\n",
    "    qgates.gates.NOT,\n",
    "    qgates.states.QB0\n",
    ")"
   ]
  },
  {
   "cell_type": "markdown",
   "metadata": {},
   "source": [
    "Alternatively, you can use the `@` operator to perform matrix multiplication."
   ]
  },
  {
   "cell_type": "code",
   "execution_count": 16,
   "metadata": {},
   "outputs": [
    {
     "data": {
      "text/plain": [
       "array([[ 0.70710678,  0.70710678],\n",
       "       [ 0.70710678, -0.70710678]])"
      ]
     },
     "execution_count": 16,
     "metadata": {},
     "output_type": "execute_result"
    }
   ],
   "source": [
    "qgates.gates.HAD"
   ]
  },
  {
   "cell_type": "code",
   "execution_count": 17,
   "metadata": {},
   "outputs": [
    {
     "data": {
      "text/plain": [
       "array([[1., 0.],\n",
       "       [0., 1.]])"
      ]
     },
     "execution_count": 17,
     "metadata": {},
     "output_type": "execute_result"
    }
   ],
   "source": [
    "(qgates.gates.HAD @ qgates.gates.HAD\n",
    ").round(16) # Compensating for rounding-error for simplicity"
   ]
  },
  {
   "cell_type": "markdown",
   "metadata": {},
   "source": [
    "### Calculate the Complex Conjugate\n",
    "\n",
    "Again, this is a wrapper around numpy's `conjugate` function."
   ]
  },
  {
   "cell_type": "code",
   "execution_count": 18,
   "metadata": {},
   "outputs": [
    {
     "data": {
      "text/plain": [
       "10"
      ]
     },
     "execution_count": 18,
     "metadata": {},
     "output_type": "execute_result"
    }
   ],
   "source": [
    "qgates.qfn.conjugate(10) # No imaginary part"
   ]
  },
  {
   "cell_type": "code",
   "execution_count": 19,
   "metadata": {},
   "outputs": [
    {
     "data": {
      "text/plain": [
       "(10-1j)"
      ]
     },
     "execution_count": 19,
     "metadata": {},
     "output_type": "execute_result"
    }
   ],
   "source": [
    "qgates.qfn.conjugate(10+1j) # Imaginary part"
   ]
  },
  {
   "cell_type": "code",
   "execution_count": 20,
   "metadata": {},
   "outputs": [
    {
     "data": {
      "text/plain": [
       "array([[0.-2.j, 1.-0.j],\n",
       "       [2.-0.j, 0.-1.j]])"
      ]
     },
     "execution_count": 20,
     "metadata": {},
     "output_type": "execute_result"
    }
   ],
   "source": [
    "qgates.qfn.conjugate([\n",
    "    [2j,1],\n",
    "    [2,1j]\n",
    "])"
   ]
  },
  {
   "cell_type": "code",
   "execution_count": null,
   "metadata": {},
   "outputs": [],
   "source": []
  }
 ],
 "metadata": {
  "kernelspec": {
   "display_name": "Python 3",
   "language": "python",
   "name": "python3"
  },
  "language_info": {
   "codemirror_mode": {
    "name": "ipython",
    "version": 3
   },
   "file_extension": ".py",
   "mimetype": "text/x-python",
   "name": "python",
   "nbconvert_exporter": "python",
   "pygments_lexer": "ipython3",
   "version": "3.7.3"
  }
 },
 "nbformat": 4,
 "nbformat_minor": 4
}
